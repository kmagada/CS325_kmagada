{
 "cells": [
  {
   "cell_type": "code",
   "execution_count": null,
   "id": "1c6f1832",
   "metadata": {},
   "outputs": [],
   "source": [
    "from ABC import ABC, abstractmethod\n",
    "\n",
    "class IMultiFunctionDevice(ABC):\n",
    "    @abstractmethod\n",
    "    def print_document(self, document):\n",
    "        pass\n",
    "\n",
    "    @abstractmethod\n",
    "    def scan_document(self, document):\n",
    "        pass\n",
    "\n",
    "    @abstractmethod\n",
    "    def fax_document(self, document):\n",
    "        pass"
   ]
  },
  {
   "cell_type": "code",
   "execution_count": null,
   "id": "7f511f96",
   "metadata": {},
   "outputs": [],
   "source": [
    "class SimplePrinter(IMultiFunctionDevice):\n",
    "    def print_document(self, document):\n",
    "        print(f\"Printing document: {document}\")\n",
    "\n",
    "    def scan_document(self, document):\n",
    "        raise NotImplementedError(\"Scan function is not supported.\")\n",
    "\n",
    "    def fax_document(self, document):\n",
    "        raise NotImplementedError(\"Fax function is not supported.\")"
   ]
  },
  {
   "cell_type": "code",
   "execution_count": null,
   "id": "2066404a",
   "metadata": {},
   "outputs": [],
   "source": [
    "class IPrintScan(ABC):\n",
    "    @abstractmethod\n",
    "    def print_document(self, document):\n",
    "        pass\n",
    "\n",
    "    @abstractmethod\n",
    "    def scan_document(self, document):\n",
    "        pass\n",
    "\n",
    "class IFax(ABC):\n",
    "    @abstractmethod\n",
    "    def fax_document(self, document):\n",
    "        pass"
   ]
  },
  {
   "cell_type": "code",
   "execution_count": null,
   "id": "4e2480e2",
   "metadata": {},
   "outputs": [],
   "source": [
    "class SimplePrintScan(IPrintScan):\n",
    "    def print_document(self, document):\n",
    "        print(f\"Printing document: {document}\")\n",
    "\n",
    "    def scan_document(self, document):\n",
    "        raise NotImplementedError(\"Scan function is not supported.\")"
   ]
  },
  {
   "cell_type": "code",
   "execution_count": null,
   "id": "b0dc17c9",
   "metadata": {},
   "outputs": [],
   "source": [
    "from tkinter import NO\n",
    "\n",
    "\n",
    "class EmailClient:\n",
    "    def send_email(self, nessagey):\n",
    "        print(f\"Sending email'\")\n",
    "\n",
    "class Notification:\n",
    "    def __init__(self):\n",
    "        self._email_client = EmailClient()\n",
    "    def send(self, message):\n",
    "        self._email_client.send_email(message)\n",
    "    \n",
    "notification = Notification()\n",
    "    notification.send(\"Hello, World!\")"
   ]
  },
  {
   "cell_type": "code",
   "execution_count": null,
   "id": "4f219060",
   "metadata": {},
   "outputs": [],
   "source": [
    "class IMessageService(ABC):\n",
    "    @abstractmethod\n",
    "    def send_message(self, message):\n",
    "        pass\n",
    "\n",
    "class EmailClient:\n",
    "    def send_email(self, message):\n",
    "        print(f\"Sending email: {message}\")\n",
    "\n",
    "class SMSClient:\n",
    "    def send_sms(self, message):\n",
    "        print(f\"Sending SMS: {message}\")\n",
    "\n",
    "class Notification:\n",
    "    def __init__(self, message_service: IMessageService):\n",
    "        self._message_service = message_service\n",
    "\n",
    "    def send(self, message):\n",
    "        self._message_service.send_message(message)"
   ]
  },
  {
   "cell_type": "code",
   "execution_count": null,
   "id": "cb85f546",
   "metadata": {},
   "outputs": [],
   "source": [
    "email_service = EmailClient()\n",
    "email_notification = Notification(email_service)\n",
    "email_notification.send(\"Hello via Email!\")\n",
    "\n",
    "sms_service = SMSClient()\n",
    "sms_notification = Notification(sms_service)\n",
    "sms_notification.send(\"Hello via SMS!\")"
   ]
  }
 ],
 "metadata": {
  "kernelspec": {
   "display_name": "base",
   "language": "python",
   "name": "python3"
  },
  "language_info": {
   "name": "python",
   "version": "3.13.5"
  }
 },
 "nbformat": 4,
 "nbformat_minor": 5
}
