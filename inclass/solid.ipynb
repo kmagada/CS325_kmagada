{
 "cells": [
  {
   "cell_type": "code",
   "execution_count": null,
   "id": "1c6f1832",
   "metadata": {},
   "outputs": [],
   "source": [
    "from ABC import ABC, abstractmethod\n",
    "\n",
    "class IMultiFunctionDevice(ABC):\n",
    "    @abstractmethod\n",
    "    def print_document(self, document):\n",
    "        pass\n",
    "\n",
    "    @abstractmethod\n",
    "    def scan_document(self, document):\n",
    "        pass\n",
    "\n",
    "    @abstractmethod\n",
    "    def fax_document(self, document):\n",
    "        pass"
   ]
  },
  {
   "cell_type": "code",
   "execution_count": null,
   "id": "7f511f96",
   "metadata": {},
   "outputs": [],
   "source": [
    "class SimplePrinter(IMultiFunctionDevice):\n",
    "    def print_document(self, document):\n",
    "        print(f\"Printing document: {document}\")\n",
    "\n",
    "    def scan_document(self, document):\n",
    "        raise NotImplementedError(\"Scan function is not supported.\")\n",
    "\n",
    "    def fax_document(self, document):\n",
    "        raise NotImplementedError(\"Fax function is not supported.\")"
   ]
  },
  {
   "cell_type": "code",
   "execution_count": null,
   "id": "2066404a",
   "metadata": {},
   "outputs": [],
   "source": [
    "class IPrinter(ABC):\n",
    "    @abstractmethod\n",
    "    def print_document(self, document):\n",
    "        pass\n",
    "\n",
    "    @abstractmethod\n",
    "    def scan_document(self, document):\n",
    "        pass\n",
    "\n",
    "    @abstractmethod\n",
    "    def fax_document(self, document):\n",
    "        pass"
   ]
  }
 ],
 "metadata": {
  "kernelspec": {
   "display_name": "base",
   "language": "python",
   "name": "python3"
  },
  "language_info": {
   "name": "python",
   "version": "3.13.5"
  }
 },
 "nbformat": 4,
 "nbformat_minor": 5
}
